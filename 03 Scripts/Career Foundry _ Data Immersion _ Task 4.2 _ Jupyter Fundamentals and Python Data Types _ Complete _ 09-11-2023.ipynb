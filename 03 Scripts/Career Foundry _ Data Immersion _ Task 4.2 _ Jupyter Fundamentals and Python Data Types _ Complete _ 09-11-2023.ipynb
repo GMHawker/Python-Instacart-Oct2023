{
 "cells": [
  {
   "cell_type": "markdown",
   "id": "b52ab190",
   "metadata": {},
   "source": [
    "# Importing Libraries"
   ]
  },
  {
   "cell_type": "code",
   "execution_count": 1,
   "id": "6a7a995d",
   "metadata": {},
   "outputs": [],
   "source": [
    "# Import Libraries\n",
    "import pandas as pd\n",
    "import numpy as np\n",
    "import os"
   ]
  },
  {
   "cell_type": "markdown",
   "id": "fc509a78",
   "metadata": {},
   "source": [
    "## Python Data Types"
   ]
  },
  {
   "cell_type": "code",
   "execution_count": 2,
   "id": "a2700189",
   "metadata": {},
   "outputs": [
    {
     "data": {
      "text/plain": [
       "100"
      ]
     },
     "execution_count": 2,
     "metadata": {},
     "output_type": "execute_result"
    }
   ],
   "source": [
    "a = 50\n",
    "b = 2\n",
    "a * b"
   ]
  },
  {
   "cell_type": "code",
   "execution_count": 3,
   "id": "11de8ea5",
   "metadata": {},
   "outputs": [
    {
     "data": {
      "text/plain": [
       "100.0"
      ]
     },
     "execution_count": 3,
     "metadata": {},
     "output_type": "execute_result"
    }
   ],
   "source": [
    "c = 1000\n",
    "d = 10\n",
    "c / d"
   ]
  },
  {
   "cell_type": "code",
   "execution_count": 4,
   "id": "f8240f25",
   "metadata": {},
   "outputs": [
    {
     "data": {
      "text/plain": [
       "100"
      ]
     },
     "execution_count": 4,
     "metadata": {},
     "output_type": "execute_result"
    }
   ],
   "source": [
    "e = 20\n",
    "f = 80\n",
    "e + f"
   ]
  },
  {
   "cell_type": "code",
   "execution_count": 5,
   "id": "017a8a0f",
   "metadata": {},
   "outputs": [
    {
     "data": {
      "text/plain": [
       "13.023584232941962"
      ]
     },
     "execution_count": 5,
     "metadata": {},
     "output_type": "execute_result"
    }
   ],
   "source": [
    "g = 666.123\n",
    "h = 8675.309\n",
    "h / g"
   ]
  },
  {
   "cell_type": "code",
   "execution_count": 8,
   "id": "041c41e8",
   "metadata": {},
   "outputs": [
    {
     "data": {
      "text/plain": [
       "'Jenny'"
      ]
     },
     "execution_count": 8,
     "metadata": {},
     "output_type": "execute_result"
    }
   ],
   "source": [
    "i = 'Je'\n",
    "j = 'nny'\n",
    "i + j"
   ]
  },
  {
   "cell_type": "code",
   "execution_count": 11,
   "id": "11d3229e",
   "metadata": {},
   "outputs": [
    {
     "data": {
      "text/plain": [
       "\"I've got your number.\""
      ]
     },
     "execution_count": 11,
     "metadata": {},
     "output_type": "execute_result"
    }
   ],
   "source": [
    "k = \"I've got \"\n",
    "l = \"your number.\"\n",
    "k + l"
   ]
  },
  {
   "cell_type": "code",
   "execution_count": 12,
   "id": "bf2861dc",
   "metadata": {},
   "outputs": [
    {
     "data": {
      "text/plain": [
       "'I need to make you mine!'"
      ]
     },
     "execution_count": 12,
     "metadata": {},
     "output_type": "execute_result"
    }
   ],
   "source": [
    "m = 'I need to '\n",
    "n = 'make you mine!'\n",
    "m + n"
   ]
  },
  {
   "cell_type": "code",
   "execution_count": 13,
   "id": "9e9e40a0",
   "metadata": {},
   "outputs": [
    {
     "data": {
      "text/plain": [
       "'I need to make you mine!I need to make you mine!I need to make you mine!I need to make you mine!I need to make you mine!I need to make you mine!I need to make you mine!I need to make you mine!I need to make you mine!I need to make you mine!I need to make you mine!I need to make you mine!I need to make you mine!I need to make you mine!I need to make you mine!I need to make you mine!I need to make you mine!I need to make you mine!I need to make you mine!I need to make you mine!I need to make you mine!I need to make you mine!I need to make you mine!I need to make you mine!I need to make you mine!I need to make you mine!I need to make you mine!I need to make you mine!I need to make you mine!I need to make you mine!I need to make you mine!I need to make you mine!I need to make you mine!I need to make you mine!I need to make you mine!I need to make you mine!I need to make you mine!I need to make you mine!I need to make you mine!I need to make you mine!I need to make you mine!I need to make you mine!I need to make you mine!I need to make you mine!I need to make you mine!I need to make you mine!I need to make you mine!I need to make you mine!I need to make you mine!I need to make you mine!I need to make you mine!I need to make you mine!I need to make you mine!I need to make you mine!I need to make you mine!I need to make you mine!I need to make you mine!I need to make you mine!I need to make you mine!I need to make you mine!I need to make you mine!I need to make you mine!I need to make you mine!I need to make you mine!I need to make you mine!I need to make you mine!I need to make you mine!I need to make you mine!I need to make you mine!I need to make you mine!I need to make you mine!I need to make you mine!I need to make you mine!I need to make you mine!I need to make you mine!I need to make you mine!I need to make you mine!I need to make you mine!I need to make you mine!I need to make you mine!I need to make you mine!I need to make you mine!I need to make you mine!I need to make you mine!I need to make you mine!I need to make you mine!I need to make you mine!I need to make you mine!I need to make you mine!I need to make you mine!I need to make you mine!I need to make you mine!I need to make you mine!I need to make you mine!I need to make you mine!I need to make you mine!I need to make you mine!I need to make you mine!I need to make you mine!I need to make you mine!'"
      ]
     },
     "execution_count": 13,
     "metadata": {},
     "output_type": "execute_result"
    }
   ],
   "source": [
    "(m + n) * 100"
   ]
  },
  {
   "cell_type": "code",
   "execution_count": null,
   "id": "4245bab6",
   "metadata": {},
   "outputs": [],
   "source": []
  }
 ],
 "metadata": {
  "kernelspec": {
   "display_name": "Python 3 (ipykernel)",
   "language": "python",
   "name": "python3"
  },
  "language_info": {
   "codemirror_mode": {
    "name": "ipython",
    "version": 3
   },
   "file_extension": ".py",
   "mimetype": "text/x-python",
   "name": "python",
   "nbconvert_exporter": "python",
   "pygments_lexer": "ipython3",
   "version": "3.11.4"
  }
 },
 "nbformat": 4,
 "nbformat_minor": 5
}
