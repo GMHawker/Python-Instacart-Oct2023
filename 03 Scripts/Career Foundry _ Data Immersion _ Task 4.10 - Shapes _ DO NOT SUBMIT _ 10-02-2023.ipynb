{
 "cells": [
  {
   "cell_type": "markdown",
   "id": "b9ebaaea",
   "metadata": {},
   "source": [
    "# Setup"
   ]
  },
  {
   "cell_type": "code",
   "execution_count": 1,
   "id": "1d935e27",
   "metadata": {},
   "outputs": [],
   "source": [
    "# Import Libraries \n",
    "\n",
    "import pandas as pd \n",
    "import numpy as np \n",
    "import os "
   ]
  },
  {
   "cell_type": "code",
   "execution_count": 5,
   "id": "9f5d6bb7",
   "metadata": {},
   "outputs": [],
   "source": [
    "# Set Path \n",
    "\n",
    "path = r'C:\\Users\\calli\\OneDrive\\Data Immersion\\Achievement 4' "
   ]
  },
  {
   "cell_type": "markdown",
   "id": "3e8e3346",
   "metadata": {},
   "source": [
    "# Import Original Data"
   ]
  },
  {
   "cell_type": "code",
   "execution_count": 3,
   "id": "9221dbc7",
   "metadata": {},
   "outputs": [],
   "source": [
    "# customers (excel)\n",
    "\n",
    "customers = pd.read_csv(os.path.join(path, '02 Data', 'Original Data', 'customers.csv'), index_col = False)"
   ]
  },
  {
   "cell_type": "code",
   "execution_count": 4,
   "id": "fdd27e02",
   "metadata": {},
   "outputs": [],
   "source": [
    "# departments (excel)\n",
    "\n",
    "departments = pd.read_csv(os.path.join(path, '02 Data', 'Original Data', 'departments.csv'), index_col = False)"
   ]
  },
  {
   "cell_type": "code",
   "execution_count": 5,
   "id": "13aa2be7",
   "metadata": {},
   "outputs": [],
   "source": [
    "# orders (excel)\n",
    "\n",
    "orders = pd.read_csv(os.path.join(path, '02 Data', 'Original Data', 'orders.csv'), index_col = False)"
   ]
  },
  {
   "cell_type": "code",
   "execution_count": 6,
   "id": "38e17625",
   "metadata": {},
   "outputs": [],
   "source": [
    "# orders_products_prior (excel)\n",
    "\n",
    "orders_products_prior = pd.read_csv(os.path.join(path, '02 Data', 'Original Data', 'orders_products_prior.csv'), index_col = False)"
   ]
  },
  {
   "cell_type": "code",
   "execution_count": 7,
   "id": "db45fe12",
   "metadata": {},
   "outputs": [],
   "source": [
    "# products  (excel)\n",
    "\n",
    "products = pd.read_csv(os.path.join(path, '02 Data', 'Original Data', 'products.csv'), index_col = False)"
   ]
  },
  {
   "cell_type": "markdown",
   "id": "25b73750",
   "metadata": {},
   "source": [
    "# Original Data Shapes"
   ]
  },
  {
   "cell_type": "code",
   "execution_count": 8,
   "id": "bf3ca7b9",
   "metadata": {},
   "outputs": [
    {
     "data": {
      "text/plain": [
       "(206209, 10)"
      ]
     },
     "execution_count": 8,
     "metadata": {},
     "output_type": "execute_result"
    }
   ],
   "source": [
    "# customers\n",
    "\n",
    "customers.shape"
   ]
  },
  {
   "cell_type": "code",
   "execution_count": 9,
   "id": "86da50a0",
   "metadata": {},
   "outputs": [
    {
     "data": {
      "text/plain": [
       "(1, 22)"
      ]
     },
     "execution_count": 9,
     "metadata": {},
     "output_type": "execute_result"
    }
   ],
   "source": [
    "# departments \n",
    "\n",
    "departments.shape"
   ]
  },
  {
   "cell_type": "code",
   "execution_count": 10,
   "id": "c287fdc4",
   "metadata": {},
   "outputs": [
    {
     "data": {
      "text/plain": [
       "(3421083, 7)"
      ]
     },
     "execution_count": 10,
     "metadata": {},
     "output_type": "execute_result"
    }
   ],
   "source": [
    "# orders\n",
    "\n",
    "orders.shape"
   ]
  },
  {
   "cell_type": "code",
   "execution_count": 11,
   "id": "166cf1ff",
   "metadata": {},
   "outputs": [
    {
     "data": {
      "text/plain": [
       "(32434489, 4)"
      ]
     },
     "execution_count": 11,
     "metadata": {},
     "output_type": "execute_result"
    }
   ],
   "source": [
    "# orders_products_prior\n",
    "\n",
    "orders_products_prior.shape"
   ]
  },
  {
   "cell_type": "code",
   "execution_count": 12,
   "id": "d033df91",
   "metadata": {},
   "outputs": [
    {
     "data": {
      "text/plain": [
       "(49693, 5)"
      ]
     },
     "execution_count": 12,
     "metadata": {},
     "output_type": "execute_result"
    }
   ],
   "source": [
    "# products\n",
    "\n",
    "products.shape"
   ]
  },
  {
   "cell_type": "markdown",
   "id": "c9624209",
   "metadata": {},
   "source": [
    "# Import Prepared Data"
   ]
  },
  {
   "cell_type": "code",
   "execution_count": 6,
   "id": "7533c091",
   "metadata": {},
   "outputs": [],
   "source": [
    "# all_wrangled_data (pkl)\n",
    "\n",
    "all_wrangled_data = pd.read_pickle(os.path.join(path, '02 Data', 'Prepared Data', 'all_wrangled_data.pkl'))"
   ]
  },
  {
   "cell_type": "code",
   "execution_count": 4,
   "id": "8de9fa38",
   "metadata": {},
   "outputs": [],
   "source": [
    "# orders_products_combined (pkl)\n",
    "\n",
    "orders_products_combined = pd.read_pickle(os.path.join(path, '02 Data', 'Prepared Data', 'orders_products_combined.pkl'))"
   ]
  },
  {
   "cell_type": "code",
   "execution_count": 4,
   "id": "7aa9c1e6",
   "metadata": {},
   "outputs": [],
   "source": [
    "# orders_products_merged_4 (pkl)\n",
    "\n",
    "orders_products_merged_4 = pd.read_pickle(os.path.join(path, '02 Data', 'Prepared Data', 'orders_products_merged_4.pkl'))"
   ]
  },
  {
   "cell_type": "code",
   "execution_count": 3,
   "id": "6dc067d7",
   "metadata": {},
   "outputs": [],
   "source": [
    "# orders_wrangled_4 (excel)\n",
    "\n",
    "orders_wrangled_4 = pd.read_csv(os.path.join(path, '02 Data', 'Prepared Data', 'orders_wrangled_4.csv'), index_col = False)"
   ]
  },
  {
   "cell_type": "code",
   "execution_count": 5,
   "id": "3e1dcf1a",
   "metadata": {},
   "outputs": [],
   "source": [
    "# pii_wrangled_data (pkl)\n",
    "\n",
    "pii_wrangled_data = pd.read_pickle(os.path.join(path, '02 Data', 'Prepared Data', 'pii_wrangled_data.pkl'))"
   ]
  },
  {
   "cell_type": "code",
   "execution_count": 4,
   "id": "8f84afda",
   "metadata": {},
   "outputs": [],
   "source": [
    "# products_checked (excel)\n",
    "\n",
    "products_checked = pd.read_csv(os.path.join(path, '02 Data', 'Prepared Data', 'products_checked.csv'), index_col = False)"
   ]
  },
  {
   "cell_type": "code",
   "execution_count": 3,
   "id": "e07e58f1",
   "metadata": {},
   "outputs": [],
   "source": [
    "# high_activity_customers (pkl)\n",
    "\n",
    "high_activity_customers = pd.read_pickle(os.path.join(path, '02 Data', 'Prepared Data', 'high_activity_customers.pkl'))"
   ]
  },
  {
   "cell_type": "markdown",
   "id": "4ca8e126",
   "metadata": {},
   "source": [
    "# Show Shapes"
   ]
  },
  {
   "cell_type": "code",
   "execution_count": 5,
   "id": "6973a3bd",
   "metadata": {},
   "outputs": [
    {
     "data": {
      "text/plain": [
       "(32404859, 32)"
      ]
     },
     "execution_count": 5,
     "metadata": {},
     "output_type": "execute_result"
    }
   ],
   "source": [
    "# all_wrangled_data\n",
    "\n",
    "all_wrangled_data.shape"
   ]
  },
  {
   "cell_type": "code",
   "execution_count": 6,
   "id": "8bc7b0c2",
   "metadata": {},
   "outputs": [
    {
     "data": {
      "text/plain": [
       "(32434489, 10)"
      ]
     },
     "execution_count": 6,
     "metadata": {},
     "output_type": "execute_result"
    }
   ],
   "source": [
    "# orders_products_combined\n",
    "\n",
    "orders_products_combined.shape"
   ]
  },
  {
   "cell_type": "code",
   "execution_count": 6,
   "id": "47dffc9a",
   "metadata": {},
   "outputs": [
    {
     "data": {
      "text/plain": [
       "(32404859, 24)"
      ]
     },
     "execution_count": 6,
     "metadata": {},
     "output_type": "execute_result"
    }
   ],
   "source": [
    "# orders_products_merged_4\n",
    "\n",
    "orders_products_merged_4.shape"
   ]
  },
  {
   "cell_type": "code",
   "execution_count": 5,
   "id": "622fcc9e",
   "metadata": {},
   "outputs": [
    {
     "data": {
      "text/plain": [
       "(3421083, 7)"
      ]
     },
     "execution_count": 5,
     "metadata": {},
     "output_type": "execute_result"
    }
   ],
   "source": [
    "# orders_wrangled_4\n",
    "\n",
    "orders_wrangled_4.shape"
   ]
  },
  {
   "cell_type": "code",
   "execution_count": 7,
   "id": "f7e6af42",
   "metadata": {},
   "outputs": [
    {
     "data": {
      "text/plain": [
       "(32404859, 19)"
      ]
     },
     "execution_count": 7,
     "metadata": {},
     "output_type": "execute_result"
    }
   ],
   "source": [
    "# pii_wrangled_data\n",
    "\n",
    "pii_wrangled_data.shape"
   ]
  },
  {
   "cell_type": "code",
   "execution_count": 6,
   "id": "de10ea7b",
   "metadata": {},
   "outputs": [
    {
     "data": {
      "text/plain": [
       "(49672, 6)"
      ]
     },
     "execution_count": 6,
     "metadata": {},
     "output_type": "execute_result"
    }
   ],
   "source": [
    "# products_checked\n",
    "\n",
    "products_checked.shape"
   ]
  },
  {
   "cell_type": "code",
   "execution_count": 4,
   "id": "b9fdcbc9",
   "metadata": {},
   "outputs": [
    {
     "data": {
      "text/plain": [
       "(30964564, 32)"
      ]
     },
     "execution_count": 4,
     "metadata": {},
     "output_type": "execute_result"
    }
   ],
   "source": [
    "# high_activity_customers\n",
    "\n",
    "high_activity_customers.shape"
   ]
  },
  {
   "cell_type": "markdown",
   "id": "122125e2",
   "metadata": {},
   "source": [
    "# Create a visualization of day of the week"
   ]
  },
  {
   "cell_type": "code",
   "execution_count": 1,
   "id": "b881b7ff",
   "metadata": {},
   "outputs": [],
   "source": [
    "# Import libraries for visualization \n",
    "\n",
    "import pandas as pd \n",
    "import numpy as np \n",
    "import os \n",
    "import matplotlib.pyplot as plt \n",
    "import seaborn as sns \n",
    "import scipy "
   ]
  },
  {
   "cell_type": "code",
   "execution_count": 4,
   "id": "2742467c",
   "metadata": {},
   "outputs": [
    {
     "data": {
      "text/plain": [
       "['order_id',\n",
       " 'user_id',\n",
       " 'order_number',\n",
       " 'order_day_of_week',\n",
       " 'order_hour_of_day',\n",
       " 'days_since_prior_order',\n",
       " 'product_id',\n",
       " 'add_to_cart_order',\n",
       " 'reordered',\n",
       " '_merge',\n",
       " 'product_name',\n",
       " 'aisle_id',\n",
       " 'department_id',\n",
       " 'prices',\n",
       " 'price_label',\n",
       " 'busiest_day',\n",
       " 'busiest_days',\n",
       " 'busiest_period_of_day',\n",
       " 'max_order',\n",
       " 'loyalty_flag',\n",
       " 'average_prices',\n",
       " 'spending_flag',\n",
       " 'median_days_since_prior_order',\n",
       " 'frequency_flag',\n",
       " 'gender',\n",
       " 'state',\n",
       " 'age',\n",
       " 'dependants',\n",
       " 'family_status',\n",
       " 'income',\n",
       " 'region',\n",
       " 'activity_flag']"
      ]
     },
     "execution_count": 4,
     "metadata": {},
     "output_type": "execute_result"
    }
   ],
   "source": [
    "# Show column names\n",
    "\n",
    "all_wrangled_data.columns.tolist() "
   ]
  },
  {
   "cell_type": "code",
   "execution_count": 9,
   "id": "f8519cca",
   "metadata": {},
   "outputs": [
    {
     "data": {
      "text/plain": [
       "order_day_of_week\n",
       "0    6204182\n",
       "1    5660230\n",
       "6    4496490\n",
       "2    4213830\n",
       "5    4205791\n",
       "3    3840534\n",
       "4    3783802\n",
       "Name: count, dtype: int64"
      ]
     },
     "execution_count": 9,
     "metadata": {},
     "output_type": "execute_result"
    }
   ],
   "source": [
    "# Show value counts of busiest_days\n",
    "\n",
    "\n",
    "all_wrangled_data['order_day_of_week'].value_counts()"
   ]
  },
  {
   "cell_type": "code",
   "execution_count": null,
   "id": "1b1d2190",
   "metadata": {},
   "outputs": [],
   "source": []
  }
 ],
 "metadata": {
  "kernelspec": {
   "display_name": "Python 3 (ipykernel)",
   "language": "python",
   "name": "python3"
  },
  "language_info": {
   "codemirror_mode": {
    "name": "ipython",
    "version": 3
   },
   "file_extension": ".py",
   "mimetype": "text/x-python",
   "name": "python",
   "nbconvert_exporter": "python",
   "pygments_lexer": "ipython3",
   "version": "3.11.4"
  }
 },
 "nbformat": 4,
 "nbformat_minor": 5
}
